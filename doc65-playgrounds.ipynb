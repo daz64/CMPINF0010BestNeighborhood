{
 "cells": [
  {
   "cell_type": "markdown",
   "metadata": {},
   "source": [
    "Metric 1 (Playgrounds) <br>\n",
    "by: Dorothy Crow\n",
    "\n",
    "## Introduction\n",
    "Introduce the project, your approach, talk about the process of how you came up with the metric and some alternatives you may have explored.\n",
    "\n",
    "Within our group we brainstromed a unique metric for a way to rank the Pittsburgh neighborhoods. Instead of choosing best place to commit a crime or best we opted for something more wholesome like best neighborhood to be a kid in. With this we can judge the nieghborhoods based on the level of pure goodness they bring the to city. \n",
    "    \n",
    "   **our submetrics**:\n",
    "   * playground density <br>\n",
    "       <ul>\n",
    "       - a playground is the best thing a kid can experience for free! slides!  swings! who wouldnt want as many as possible?<br>\n",
    "       - data set being used: [city of pittsburgh playground](https://data.wprdc.org/datastore/dump/47350364-44a8-4d15-b6e0-5f79ddff9367)\n",
    "\n",
    "**this isnt working and i dont know why**\n",
    "    \n",
    "   * walkability<br>\n",
    "       <ul>\n",
    "       - a kid can't drive a car and bus passes can be so expenseive all they got are their little legs if they want to get around on their own \n",
    "       - data set being used: \n",
    "[allegheny county walk scores](https://data.wprdc.org/dataset/4d3d4324-b32a-4519-b56f-cee2340057bf/resource/682b1df1-a63b-4413-9362-ba077af63baa/download/walkscorect.xls-walk-score-by-ct.csv)\n",
    "           <br><br>\n",
    "   * school density (for choice)<br>\n",
    "       <ul>\n",
    "       - schools are a huge deal for kids, it will shape their educational experience for roughly 12 years and thier social circle, it's important to have as many options to pick from \n",
    "       - data set being used: [enrollment by school and neighborhood](https://data.wprdc.org/dataset/27b6eef7-8825-4cc4-8b48-52c17ac80d37/resource/7b0660d1-c812-496d-ab0a-8560902e9e70/download/neighborhood_school_enrollment.csv)<br><br>\n",
    "          \n",
    "   * density of pools<br>\n",
    "       <ul>\n",
    "       - everyone loves a pool! but especially kids, and who can blame them I cant think of a better way to spend summer, other than diving for pool toys. The more options the better!\n",
    "       - data set being used: [pittsburgh city pools](https://data.wprdc.org/datastore/dump/5cc254fe-2cbd-4912-9f44-2f95f0beea9a)<br><br>\n",
    "          \n",
    "        **alternative metrics we debated**: \n",
    "           - density of candy stores\n",
    "           - density of ice cream parlors\n",
    "           - ...\n",
    "           \n",
    "           In all we ended up not going with these alternatie metrics because we thought our finalized ones were a more wholistic measure, and due a limited amount of data sets to pull from."
   ]
  },
  {
   "cell_type": "markdown",
   "metadata": {},
   "source": [
    "## Best neighborhood:"
   ]
  },
  {
   "cell_type": "code",
   "execution_count": 6,
   "metadata": {},
   "outputs": [],
   "source": [
    "import pprint\n",
    "import pandas as pd\n",
    "import numpy as np\n",
    "%matplotlib inline\n",
    "import matplotlib.pyplot as plt\n",
    "pg = pd.read_csv(\"playgrounds.csv\")"
   ]
  },
  {
   "cell_type": "markdown",
   "metadata": {},
   "source": [
    "**All the neighborhoods corresponding with their amount of playgrounds:**"
   ]
  },
  {
   "cell_type": "code",
   "execution_count": 7,
   "metadata": {},
   "outputs": [],
   "source": [
    "pg.groupby(\"neighborhood\").count()\n",
    "nghs =[]\n",
    "for ngh, row in pg.iterrows():\n",
    "    nghs.append(row[\"neighborhood\"])\n",
    "\n",
    "nghdict = dict()\n",
    "for ngh in pg[\"neighborhood\"]:\n",
    "    if ngh in nghdict:\n",
    "        nghdict[ngh] = nghdict.get(ngh) + 1\n",
    "    else:\n",
    "        nghdict[ngh] = 1"
   ]
  },
  {
   "cell_type": "markdown",
   "metadata": {},
   "source": [
    "**However**: to print every neighborhood in a long list would be very hard to understand, let's try to *visualize* this better:\n",
    "    - first lets condence our data set, and take out all neighborhoods that dont have 4 or more playgrounds."
   ]
  },
  {
   "cell_type": "code",
   "execution_count": 8,
   "metadata": {},
   "outputs": [
    {
     "name": "stdout",
     "output_type": "stream",
     "text": [
      "                     0\n",
      "Beechview            5\n",
      "South Side Slopes    5\n",
      "Squirrel Hill South  8\n",
      "Allegheny Center     4\n",
      "Highland Park        4\n",
      "Sheraden             4\n",
      "Beltzhoover          4\n"
     ]
    }
   ],
   "source": [
    "smalldict = dict()\n",
    "for ngh in nghdict:\n",
    "    if nghdict[ngh] > 3:\n",
    "        smalldict.update({ngh : nghdict[ngh]})\n",
    "\n",
    "#coverts dictionary to data frame\n",
    "nghdf = pd.DataFrame.from_dict(smalldict, orient = 'index')\n",
    "\n",
    "#prints raw data frame\n",
    "print(nghdf)"
   ]
  },
  {
   "cell_type": "code",
   "execution_count": 11,
   "metadata": {},
   "outputs": [
    {
     "data": {
      "image/png": "[encoded data removed]",
      "text/plain": [
       "<Figure size 432x288 with 1 Axes>"
      ]
     },
     "metadata": {
      "needs_background": "light"
     },
     "output_type": "display_data"
    }
   ],
   "source": [
    "nghdf.plot(kind=\"bar\")\n",
    "plt.title(\"Playground Frequency per Neighborhood\")\n",
    "plt.xlabel(\"Neighborhood\")\n",
    "plt.ylabel(\"Amount of Playgrounds\")\n",
    "plt.style.use('seaborn-muted')"
   ]
  },
  {
   "cell_type": "markdown",
   "metadata": {},
   "source": [
    "That looks better! From this we can see an obvious winner, that being Squirell Hill with the 8 playgrounds per neighborhood; the highest ratio of all pittsbu"
   ]
  },
  {
   "cell_type": "markdown",
   "metadata": {},
   "source": [
    "## Conclusion:\n",
    "Based on the \"City of Pittsburgh Playrgounds\" data set, collected by the Department of Public Works of the City of Pittsburgh, we were able to abstract the imporant data, that being the frequency of certain neighborhoods within the data set. After this information was gained were able to create our own dictionary and data frame, condence the data into the top seven neighborhoods for ideal visualization. Finally through the bar graph of the neighborhoods we are able to see a clear winner, Squirrel Hill.\n",
    "\n",
    "Therefore **Squirrel Hill** wins as best neighborhood to be a kid in, under the metric of most playgrounds :)\n",
    "\n",
    "As a native Pittsburgher I'm a little biased to my childhood neighborhood, Stanton Heights, and those surrounding it, Highland Park. However I had many friends, growing up, that lived in Squirrel Hill and from personal experience I would Squirrel Hill is a top contender for best neighborhood to be a kid in. "
   ]
  }
 ],
 "metadata": {
  "kernelspec": {
   "display_name": "Python 3",
   "language": "python",
   "name": "python3"
  },
  "language_info": {
   "codemirror_mode": {
    "name": "ipython",
    "version": 3
   },
   "file_extension": ".py",
   "mimetype": "text/x-python",
   "name": "python",
   "nbconvert_exporter": "python",
   "pygments_lexer": "ipython3",
   "version": "3.8.3"
  }
 },
 "nbformat": 4,
 "nbformat_minor": 4
}
