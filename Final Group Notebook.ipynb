{
 "cells": [
  {
   "cell_type": "markdown",
   "metadata": {},
   "source": [
    "# Big Ideas Final Project\n",
    "\n",
    "by: Dorothy Crow, Alice Wen, Salimat Shonekan, Zapata Soveranez \n",
    "\n",
    "## Best Pittsburgh Neighborhood for a kid!\n",
    "\n",
    "---\n",
    "---\n",
    "\n",
    "### Introduction\n",
    "\n",
    "Being a kid can be tough!! \n",
    "\n",
    "![tough kid](https://media.giphy.com/media/v1.Y2lkPTc5MGI3NjExNGIzY2I0NTU2MDQyODE0YjUzOWVmNzU5MTc4OWI2ZWM5ZGFkYWU5ZCZlcD12MV9pbnRlcm5hbF9naWZzX2dpZklkJmN0PWc/tXL4FHPSnVJ0A/giphy.gif)\n",
    "\n",
    "\n",
    "There's so much you can't do; so we thought we'd throw them a bone and when we brainstormed a unique metric to rank Pittsburgh neighborhoods. We finally decided to figure out what the best neighborhood to be a kid in is. We were pretty devoted to helping out these little ones from the beginning so we didn't brainstorm a lot of other overarching metrics, but we did debate going with some other submetrics. Before finalizing our data frames we debated going with some other submetrics like the density of candy stores or ice cream parlors. However, due to more pertinent criteria and limited data frame choice, we ended up going with...\n",
    "\n",
    "---\n",
    "---"
   ]
  },
  {
   "cell_type": "markdown",
   "metadata": {},
   "source": [
    "\n",
    "   #### our submetrics:\n",
    "   \n",
    "   \n",
    "<img src=\"https://media.giphy.com/media/f4OpXnvL9KJTtjxHDD/giphy.gif\" width=\"250\" height=\"250\"/>\n",
    " \n",
    "   * **playground density** <br>\n",
    "       - A playground is the best thing a kid can experience for free! slides!  swings! who wouldnt want as many as possible?<br>\n",
    "\n",
    "data set being used:\n",
    "\n",
    "[city of pittsburgh playground](https://data.wprdc.org/datastore/dump/47350364-44a8-4d15-b6e0-5f79ddff9367)\n"
   ]
  },
  {
   "cell_type": "code",
   "execution_count": 7,
   "metadata": {},
   "outputs": [
    {
     "name": "stdout",
     "output_type": "stream",
     "text": [
      "{'Beechview': 5, 'Crawford-Roberts': 3, 'Central Northside': 2, 'Bedford Dwellings': 1, 'South Side Slopes': 5, 'South Side Flats': 2, 'Lower Lawrenceville': 1, 'Banksville': 1, 'Homewood North': 1, 'Bon Air': 1, 'Central Oakland': 1, 'Brighton Heights': 2, 'Brookline': 2, 'Hazelwood': 3, 'Squirrel Hill South': 8, 'Spring Garden': 1, 'Lincoln-Lemington-Belmar': 2, 'Windgap': 1, 'Troy Hill': 2, 'Westwood': 1, 'Perry South': 1, 'Homewood West': 1, 'Allegheny Center': 4, 'Strip District': 1, 'Stanton Heights': 1, 'Crafton Heights': 2, 'West Oakland': 1, 'East Carnegie': 1, 'Duquesne Heights': 1, 'East Liberty': 3, 'Esplen': 1, 'Fairywood': 1, 'Highland Park': 4, 'Upper Lawrenceville': 3, 'Fineview': 1, 'Regent Square': 1, 'Garfield': 2, 'Greenfield': 2, 'South Oakland': 3, 'Allentown': 1, 'Hays': 1, 'Elliott': 3, 'Morningside': 2, 'Terrace Village': 1, 'Larimer': 1, 'Carrick': 3, 'Central Lawrenceville': 1, 'Lincoln Place': 2, 'Manchester': 2, 'Marshall-Shadeland': 2, 'Sheraden': 4, 'Beltzhoover': 4, 'Shadyside': 1, 'Mount Washington': 3, 'Oakwood': 1, 'Bloomfield': 2, 'Perry North': 1, 'Upper Hill': 1, 'New Homestead': 1, 'Spring Hill-City View': 1, 'Swisshelm Park': 1, 'Bluff': 1, 'Middle Hill': 1, 'West End': 1, 'Polish Hill': 1, 'Point Breeze North': 1, 'Squirrel Hill North': 1, 'East Allegheny': 1}\n",
      "\n"
     ]
    }
   ],
   "source": [
    "import pprint\n",
    "import geopandas as gp\n",
    "import pandas as pd\n",
    "import numpy as np\n",
    "%matplotlib inline\n",
    "import matplotlib.pyplot as plt\n",
    "pg = pd.read_csv(\"playgrounds.csv\")\n",
    "\n",
    "#itterates through data fram to load into a list\n",
    "pg.groupby(\"neighborhood\").count()\n",
    "nghs =[]\n",
    "for ngh, row in pg.iterrows():\n",
    "    nghs.append(row[\"neighborhood\"])\n",
    "\n",
    "#makes a dictionary of the neighborhoods and their corresponding number of playgrounds\n",
    "nghdict = dict()\n",
    "for ngh in pg[\"neighborhood\"]:\n",
    "    if ngh in nghdict:\n",
    "        nghdict[ngh] = nghdict.get(ngh) + 1\n",
    "    else:\n",
    "        nghdict[ngh] = 1\n",
    "\n",
    "print(nghdict)        \n",
    "print()    "
   ]
  },
  {
   "cell_type": "code",
   "execution_count": 12,
   "metadata": {},
   "outputs": [
    {
     "name": "stdout",
     "output_type": "stream",
     "text": [
      "                     playground density\n",
      "Beechview                             5\n",
      "South Side Slopes                     5\n",
      "Squirrel Hill South                   8\n",
      "Allegheny Center                      4\n",
      "Highland Park                         4\n",
      "Sheraden                              4\n",
      "Beltzhoover                           4\n",
      "\n"
     ]
    }
   ],
   "source": [
    "#makes a condensed dictionary, taking out all neighborhoods without 4 or more playgrounds\n",
    "smalldict = dict()\n",
    "for ngh in nghdict:\n",
    "    if nghdict[ngh] > 3:\n",
    "        smalldict.update({ngh : nghdict[ngh]})\n",
    "\n",
    "print(nghdf)\n",
    "print()  "
   ]
  },
  {
   "cell_type": "code",
   "execution_count": 34,
   "metadata": {},
   "outputs": [
    {
     "data": {
      "image/png": "[encoded data removed]",
      "text/plain": [
       "<Figure size 432x288 with 1 Axes>"
      ]
     },
     "metadata": {
      "needs_background": "light"
     },
     "output_type": "display_data"
    }
   ],
   "source": [
    "#coverts condensed dictionary to data frame\n",
    "nghdf = pd.DataFrame.from_dict(smalldict, orient = 'index')\n",
    "\n",
    "nghdf= nghdf.rename(columns = {0: 'playground density'})\n",
    "\n",
    "#makes a bar graph based on the condensed data frame\n",
    "nghdfS = nghdf.sort_values('playground density')\n",
    "nghdfS.plot(kind=\"bar\")\n",
    "plt.title(\"Playground Frequency per Neighborhood\")\n",
    "plt.xlabel(\"Neighborhood\")\n",
    "plt.ylabel(\"Amount of Playgrounds\")\n",
    "plt.style.use('seaborn-muted')\n"
   ]
  },
  {
   "cell_type": "markdown",
   "metadata": {},
   "source": [
    "---"
   ]
  },
  {
   "cell_type": "markdown",
   "metadata": {},
   "source": [
    "<img src=\"https://media.giphy.com/media/uTbm38Xcm4mp9oT3Th/giphy.gif\" width=\"250\" height=\"250\"/> \n",
    " \n",
    " * **walkability**<br>\n",
    "       - A kid can't drive a car and bus passes can be so expenseive all they got are their little legs (or wheels) if they want to get around on their own. The walk score reflects how many sidewalks there are in the neighborhood and how close amenities are. \n",
    "\n",
    "data set being used: \n",
    "\n",
    "[allegheny county walk scores](https://data.wprdc.org/dataset/4d3d4324-b32a-4519-b56f-cee2340057bf/resource/682b1df1-a63b-4413-9362-ba077af63baa/download/walkscorect.xls-walk-score-by-ct.csv)\n",
    "           <br><br>"
   ]
  },
  {
   "cell_type": "markdown",
   "metadata": {},
   "source": [
    "**DAVID YOUR CODE STUFF GOES HERE**"
   ]
  },
  {
   "cell_type": "markdown",
   "metadata": {},
   "source": [
    "---"
   ]
  },
  {
   "cell_type": "markdown",
   "metadata": {},
   "source": [
    " <img src=\"https://media.giphy.com/media/s9zMVxB2iHtpoqETbw/giphy.gif\" width=\"250\" height=\"250\"/> \n",
    " \n",
    " * **school density**<br>\n",
    "       - Schools are a huge deal for kids, it will shape their educational experience for roughly 12 years and their social circle. It's important to have as many options to pick from as they can.\n",
    "\n",
    "data set being used:\n",
    "           \n",
    "[enrollment by school and neighborhood](https://data.wprdc.org/dataset/27b6eef7-8825-4cc4-8b48-52c17ac80d37/resource/7b0660d1-c812-496d-ab0a-8560902e9e70/download/neighborhood_school_enrollment.csv)<br><br>\n",
    "          "
   ]
  },
  {
   "cell_type": "code",
   "execution_count": 33,
   "metadata": {},
   "outputs": [
    {
     "data": {
      "image/png": "[encoded data removed]",
      "text/plain": [
       "<Figure size 432x288 with 1 Axes>"
      ]
     },
     "metadata": {
      "needs_background": "light"
     },
     "output_type": "display_data"
    }
   ],
   "source": [
    "chip = pd.read_csv(\"https://data.wprdc.org/dataset/46fb3ca4-e844-4b42-b034-e87291d34699/resource/06664b02-c673-49d5-8a70-d3cd1c18ac8d/download/pps_schoolsapr2019publish.csv\")\n",
    "ran = pd.read_csv(\"https://data.wprdc.org/dataset/27b6eef7-8825-4cc4-8b48-52c17ac80d37/resource/7b0660d1-c812-496d-ab0a-8560902e9e70/download/neighborhood_school_enrollment.csv\")\n",
    "\n",
    "sorted = ran.sort_values(by = ['enrolled_students'])\n",
    "\n",
    "#ran.plot.bar()\n",
    "query_mask = ran['enrolled_students'] > 150\n",
    "blah = ran[query_mask]\n",
    "blah = blah.sort_values('enrolled_students')\n",
    "blah.plot.bar(x = \"neighborhood\" , rot = 90)\n",
    "plt.style.use('seaborn-muted')"
   ]
  },
  {
   "cell_type": "markdown",
   "metadata": {},
   "source": [
    "---"
   ]
  },
  {
   "cell_type": "markdown",
   "metadata": {},
   "source": [
    "\n",
    "\n",
    "<img src=\"https://media.giphy.com/media/v1.Y2lkPTc5MGI3NjExY2FkOTRmYTVkOTliNDczNzcwNTBjMDI0NmUxZDEwNTE0Y2MwMjdhMyZlcD12MV9pbnRlcm5hbF9naWZzX2dpZklkJmN0PWc/uT8MbXO2lK4U5Ve2b0/giphy.gif\" width=\"250\" height=\"250\"/>\n",
    "\n",
    "\n",
    "  * **density of pools**<br>\n",
    "       - Everyone loves a pool! but especially kids, and who can blame them I cant think of a better way to spend summer, other than diving for pool toys! The more options the better! <br>\n",
    "\n",
    "data set being used:\n",
    "\n",
    "[pittsburgh city pools](https://data.wprdc.org/datastore/dump/5cc254fe-2cbd-4912-9f44-2f95f0beea9a)<br><br>\n",
    "          "
   ]
  },
  {
   "cell_type": "markdown",
   "metadata": {},
   "source": [
    "**ALICE YOUR CODE STUFF GOES HERE**"
   ]
  },
  {
   "cell_type": "markdown",
   "metadata": {},
   "source": [
    "---\n",
    "---\n",
    "\n",
    "### Best Neighborhood\n",
    "\n",
    "#### Top Neighborhoods from each members' submetric:<br>\n",
    " \n",
    " * **Playgrounds:**\n",
    "      - **Squirrel Hill** <br>\n",
    "      - Beechview\n",
    "      - South Side Slopes\n",
    "      - Allegheny Center\n",
    "       \n",
    "       \n",
    "  * **Schools:**<br>\n",
    "      - Brookline\n",
    "      - **Squirrel Hill**\n",
    "      - Sheraden\n",
    "      - Carrick\n",
    "      - Wilkinsburg Burough\n",
    "      \n",
    "      \n",
    "   * **Pools:**<br>\n",
    "      - [Allegheny Center, Brookline, Polish Hill, Westwood, Brighton Heights]\n",
    "      - [Perry North, **Squirrel Hill**, South Side Slopes, South Sides Flats, Sheraden, Bedford Dwellings, Perry South, ...]\n",
    "   \n",
    "   \n",
    "  * **Walkability:**<br>\n",
    "      - Dowtown\n",
    "      - Sewickley\n",
    "      - Lower Lawrenceville \n",
    "      - Shadyside\n",
    "      - Ellsworth\n",
    "      - Allegheny Center\n",
    "      - Polish Hill\n",
    "      - Lower East Liberty\n",
    "      - **Squirrel Hill**\n",
    "\n",
    "<br><br>\n",
    "The overall best neighborhood for a kid to live in, taking into account all of our metrics is **Squirrel Hill**. We found this by comparing the top neighborhood from all of our metrics. We specifically found Squirrel Hill because it was Playground's top pick, in School's top 3, in Pool's roughly top 2, and in Walkability's top 10. Overall it was the neighborhood that was the most consistent among our top ranking neighborhoods. "
   ]
  },
  {
   "cell_type": "markdown",
   "metadata": {},
   "source": [
    "---\n",
    "---\n",
    "\n",
    "### Conclusion\n",
    "\n",
    " Overall, Squirrel Hill is a great place to be a kid in, with nearby schools (as it has ~300 students in the neighborhood enrolled in school), a pool, 8 playgrounds, and a decent amount of sidewalks and the ability to walk to nearby amenities. \n",
    " <br> <br>\n",
    "\n",
    "Dorothy: \n",
    "   <ul> Based on the \"City of Pittsburgh Playgrounds\" data set, collected by the Department of Public Works of the City of Pittsburgh, I first read the relevant data from my data frame into a dictionary with the number of playgrounds and the neighborhood name as the key, subtracted less pertinent neighborhoods, sorted my data to be in increasing order, and then visually displayed the data found in a bar graph. Through that, we can see Squirrel Hill is the obvious winner for the best neighborhood to be a kid in.\n",
    "    <br> <br>\n",
    "    As a native Pittsburgher I'm a little biased for my childhood neighborhood, Stanton Heights, and those surrounding it, like Highland Park. However, I had many friends, growing up, that lived in Squirrel Hill, and from personal experience I would Squirrel Hill is a top contender for best neighborhood to be a kid in.<br><br>\n",
    "    \n",
    "Alice:\n",
    "    \n",
    "\n",
    "**ALICE CONCLUSION GOES HERE**\n",
    "    \n",
    "    \n",
    "Salimat:\n",
    "    <ul>The data-driven determination of the best neighborhood is the same as my personal favorite neighborhood because it has the most enrolled students around the neighborhood and it is known as one the most beautiful branches of the Carnegie Library of Pittsburgh. In my belief, the pros to having a library branch in your neighborhood is the best thing a kid can ask for. According to data statistics, it appears that a kid is more likely to have fun in this neighborhood compared to any other neighborhood since there are more kids involved within the community. <br><br>\n",
    "   \n",
    "    \n",
    "David:\n",
    "    \n",
    "**DAVID CONCLUSION GOES HERE**\n",
    "    "
   ]
  },
  {
   "cell_type": "markdown",
   "metadata": {},
   "source": [
    "![skaters](https://media.giphy.com/media/XMYUfP3QnRzr9CrTOS/giphy.gif)"
   ]
  }
 ],
 "metadata": {
  "kernelspec": {
   "display_name": "Python 3",
   "language": "python",
   "name": "python3"
  },
  "language_info": {
   "codemirror_mode": {
    "name": "ipython",
    "version": 3
   },
   "file_extension": ".py",
   "mimetype": "text/x-python",
   "name": "python",
   "nbconvert_exporter": "python",
   "pygments_lexer": "ipython3",
   "version": "3.8.3"
  }
 },
 "nbformat": 4,
 "nbformat_minor": 4
}
